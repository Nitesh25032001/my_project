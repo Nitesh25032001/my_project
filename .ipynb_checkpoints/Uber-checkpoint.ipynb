{
 "cells": [
  {
   "cell_type": "code",
   "execution_count": 53,
   "id": "d2cc2e59-08cc-4b3c-a75b-ac0632413553",
   "metadata": {},
   "outputs": [],
   "source": [
    "import numpy as np\n",
    "import pandas as pd\n",
    "import matplotlib.pyplot as plt\n",
    "import seaborn as sns\n",
    "from sklearn.preprocessing import MinMaxScaler, StandardScaler\n",
    "from sklearn.ensemble import RandomForestRegressor"
   ]
  },
  {
   "cell_type": "code",
   "execution_count": 13,
   "id": "df0cde8e-3691-4260-9c53-e08a0ef4570d",
   "metadata": {},
   "outputs": [],
   "source": [
    "df = pd.read_csv(\"Dataset_Uber_Traffic.csv\")"
   ]
  },
  {
   "cell_type": "code",
   "execution_count": 15,
   "id": "23514154-e180-49e2-be15-ffad4ab44281",
   "metadata": {},
   "outputs": [
    {
     "data": {
      "text/html": [
       "<div>\n",
       "<style scoped>\n",
       "    .dataframe tbody tr th:only-of-type {\n",
       "        vertical-align: middle;\n",
       "    }\n",
       "\n",
       "    .dataframe tbody tr th {\n",
       "        vertical-align: top;\n",
       "    }\n",
       "\n",
       "    .dataframe thead th {\n",
       "        text-align: right;\n",
       "    }\n",
       "</style>\n",
       "<table border=\"1\" class=\"dataframe\">\n",
       "  <thead>\n",
       "    <tr style=\"text-align: right;\">\n",
       "      <th></th>\n",
       "      <th>DateTime</th>\n",
       "      <th>Junction</th>\n",
       "      <th>Vehicles</th>\n",
       "      <th>ID</th>\n",
       "    </tr>\n",
       "  </thead>\n",
       "  <tbody>\n",
       "    <tr>\n",
       "      <th>0</th>\n",
       "      <td>01/11/15 0:00</td>\n",
       "      <td>1</td>\n",
       "      <td>15</td>\n",
       "      <td>20151101001</td>\n",
       "    </tr>\n",
       "    <tr>\n",
       "      <th>1</th>\n",
       "      <td>01/11/15 1:00</td>\n",
       "      <td>1</td>\n",
       "      <td>13</td>\n",
       "      <td>20151101011</td>\n",
       "    </tr>\n",
       "    <tr>\n",
       "      <th>2</th>\n",
       "      <td>01/11/15 2:00</td>\n",
       "      <td>1</td>\n",
       "      <td>10</td>\n",
       "      <td>20151101021</td>\n",
       "    </tr>\n",
       "    <tr>\n",
       "      <th>3</th>\n",
       "      <td>01/11/15 3:00</td>\n",
       "      <td>1</td>\n",
       "      <td>7</td>\n",
       "      <td>20151101031</td>\n",
       "    </tr>\n",
       "    <tr>\n",
       "      <th>4</th>\n",
       "      <td>01/11/15 4:00</td>\n",
       "      <td>1</td>\n",
       "      <td>9</td>\n",
       "      <td>20151101041</td>\n",
       "    </tr>\n",
       "  </tbody>\n",
       "</table>\n",
       "</div>"
      ],
      "text/plain": [
       "        DateTime  Junction  Vehicles           ID\n",
       "0  01/11/15 0:00         1        15  20151101001\n",
       "1  01/11/15 1:00         1        13  20151101011\n",
       "2  01/11/15 2:00         1        10  20151101021\n",
       "3  01/11/15 3:00         1         7  20151101031\n",
       "4  01/11/15 4:00         1         9  20151101041"
      ]
     },
     "execution_count": 15,
     "metadata": {},
     "output_type": "execute_result"
    }
   ],
   "source": [
    "df.head()"
   ]
  },
  {
   "cell_type": "code",
   "execution_count": 17,
   "id": "90b9c967-0db1-4d52-ada4-f5876e785d43",
   "metadata": {},
   "outputs": [
    {
     "name": "stdout",
     "output_type": "stream",
     "text": [
      "Missing values before cleaning:\n",
      "DateTime    0\n",
      "Junction    0\n",
      "Vehicles    0\n",
      "ID          0\n",
      "dtype: int64\n"
     ]
    }
   ],
   "source": [
    "# Check for missing values\n",
    "print(\"Missing values before cleaning:\")\n",
    "print(df.isnull().sum())"
   ]
  },
  {
   "cell_type": "code",
   "execution_count": 23,
   "id": "dc4bc41a-c938-44e1-905f-51ffe0d022f9",
   "metadata": {},
   "outputs": [],
   "source": [
    "# Remove duplicates\n",
    "df = df.drop_duplicates()"
   ]
  },
  {
   "cell_type": "code",
   "execution_count": 25,
   "id": "4896eb1b-7716-4f85-af83-21e3123027cc",
   "metadata": {},
   "outputs": [],
   "source": [
    "# Convert DateTime to datetime format\n",
    "df['DateTime'] = pd.to_datetime(df['DateTime'], format='%d/%m/%y %H:%M')"
   ]
  },
  {
   "cell_type": "code",
   "execution_count": 27,
   "id": "47263b42-91ae-442c-8069-3f3d98ee3c19",
   "metadata": {},
   "outputs": [],
   "source": [
    "# Ensure Junction and Vehicles are correct types\n",
    "df['Junction'] = df['Junction'].astype(int)\n",
    "df['Vehicles'] = df['Vehicles'].astype(int)\n",
    "df['ID'] = df['ID'].astype(int)"
   ]
  },
  {
   "cell_type": "code",
   "execution_count": 29,
   "id": "e00a16ff-07a8-4777-9574-bc8936972208",
   "metadata": {},
   "outputs": [
    {
     "name": "stdout",
     "output_type": "stream",
     "text": [
      "\n",
      "Data types after correction:\n",
      "DateTime    datetime64[ns]\n",
      "Junction             int32\n",
      "Vehicles             int32\n",
      "ID                   int32\n",
      "dtype: object\n"
     ]
    }
   ],
   "source": [
    "# Verify data types\n",
    "print(\"\\nData types after correction:\")\n",
    "print(df.dtypes)"
   ]
  },
  {
   "cell_type": "code",
   "execution_count": 31,
   "id": "a59d7a26-37d2-401f-aba8-f679599b335b",
   "metadata": {},
   "outputs": [],
   "source": [
    "#Aggregate Traffic Data\n",
    "# Since the data is already in hourly intervals, we'll group by Junction and DateTime\n",
    "# to ensure we have hourly vehicle counts per junction\n",
    "aggregated_df = df.groupby(['Junction', 'DateTime'])['Vehicles'].sum().reset_index()"
   ]
  },
  {
   "cell_type": "code",
   "execution_count": 33,
   "id": "0e34bc31-0192-4b08-9bef-8eae1ee53908",
   "metadata": {},
   "outputs": [],
   "source": [
    "# Pivot to have junctions as columns and datetime as rows\n",
    "pivot_df = aggregated_df.pivot(index='DateTime', columns='Junction', values='Vehicles')"
   ]
  },
  {
   "cell_type": "code",
   "execution_count": 35,
   "id": "89f9594b-f3ea-404b-9446-26a10536e459",
   "metadata": {},
   "outputs": [],
   "source": [
    "# Fill any missing values in the pivot table with 0 (no traffic recorded)\n",
    "pivot_df = pivot_df.fillna(0)"
   ]
  },
  {
   "cell_type": "code",
   "execution_count": 37,
   "id": "b1f39ed6-12ed-4668-9554-833249f104f4",
   "metadata": {},
   "outputs": [
    {
     "name": "stdout",
     "output_type": "stream",
     "text": [
      "\n",
      "Sample of aggregated data:\n",
      "Junction                1    2    3    4\n",
      "DateTime                                \n",
      "2015-11-01 00:00:00  15.0  6.0  9.0  0.0\n",
      "2015-11-01 01:00:00  13.0  6.0  7.0  0.0\n",
      "2015-11-01 02:00:00  10.0  5.0  5.0  0.0\n",
      "2015-11-01 03:00:00   7.0  6.0  1.0  0.0\n",
      "2015-11-01 04:00:00   9.0  7.0  2.0  0.0\n"
     ]
    }
   ],
   "source": [
    "# Print sample of aggregated data\n",
    "print(\"\\nSample of aggregated data:\")\n",
    "print(pivot_df.head())"
   ]
  },
  {
   "cell_type": "code",
   "execution_count": 45,
   "id": "004f32c6-c95f-47f3-9341-9d7e7b42ee85",
   "metadata": {},
   "outputs": [],
   "source": [
    "# Preprocess the Data\n",
    "\n",
    "scaler_minmax = MinMaxScaler()\n",
    "normalized_data = pd.DataFrame(\n",
    "    scaler_minmax.fit_transform(pivot_df),\n",
    "    columns=pivot_df.columns,\n",
    "    index=pivot_df.index\n",
    ")"
   ]
  },
  {
   "cell_type": "code",
   "execution_count": 47,
   "id": "7e420179-2e20-47e7-8b73-f48439c489cb",
   "metadata": {},
   "outputs": [
    {
     "name": "stdout",
     "output_type": "stream",
     "text": [
      "\n",
      "Sample of normalized data:\n",
      "Junction                    1         2         3    4\n",
      "DateTime                                              \n",
      "2015-11-01 00:00:00  0.066225  0.106383  0.044693  0.0\n",
      "2015-11-01 01:00:00  0.052980  0.106383  0.033520  0.0\n",
      "2015-11-01 02:00:00  0.033113  0.085106  0.022346  0.0\n",
      "2015-11-01 03:00:00  0.013245  0.106383  0.000000  0.0\n",
      "2015-11-01 04:00:00  0.026490  0.127660  0.005587  0.0\n"
     ]
    }
   ],
   "source": [
    "# Print sample of preprocessed data\n",
    "print(\"\\nSample of normalized data:\")\n",
    "print(normalized_data.head())"
   ]
  },
  {
   "cell_type": "code",
   "execution_count": 49,
   "id": "7e461a8f-d81f-4d45-9466-056312854133",
   "metadata": {},
   "outputs": [],
   "source": [
    "#Standardize the data (zero mean, unit variance)\n",
    "scaler_std = StandardScaler()\n",
    "standardized_data = pd.DataFrame(\n",
    "    scaler_std.fit_transform(pivot_df),\n",
    "    columns=pivot_df.columns,\n",
    "    index=pivot_df.index\n",
    ")"
   ]
  },
  {
   "cell_type": "code",
   "execution_count": 51,
   "id": "455339f1-3f73-43a4-918c-20dfb05e13af",
   "metadata": {},
   "outputs": [
    {
     "name": "stdout",
     "output_type": "stream",
     "text": [
      "\n",
      "Sample of standardized data:\n",
      "Junction                    1         2         3        4\n",
      "DateTime                                                  \n",
      "2015-11-01 00:00:00 -1.306219 -1.115141 -0.449805 -0.56334\n",
      "2015-11-01 01:00:00 -1.393147 -1.115141 -0.641456 -0.56334\n",
      "2015-11-01 02:00:00 -1.523539 -1.250257 -0.833107 -0.56334\n",
      "2015-11-01 03:00:00 -1.653931 -1.115141 -1.216409 -0.56334\n",
      "2015-11-01 04:00:00 -1.567003 -0.980026 -1.120583 -0.56334\n"
     ]
    }
   ],
   "source": [
    "print(\"\\nSample of standardized data:\")\n",
    "print(standardized_data.head())"
   ]
  },
  {
   "cell_type": "code",
   "execution_count": 55,
   "id": "27eee480-ac3c-42f1-abff-e9ebb8cbf948",
   "metadata": {},
   "outputs": [],
   "source": [
    "# 1.Feature Engineering\n",
    "# Create time-based features\n",
    "df['Hour'] = df['DateTime'].dt.hour\n",
    "df['DayOfWeek'] = df['DateTime'].dt.dayofweek  # Monday=0, Sunday=6\n",
    "df['Month'] = df['DateTime'].dt.month\n",
    "df['IsWeekend'] = df['DayOfWeek'].isin([5, 6]).astype(int)  # Binary indicator for weekends"
   ]
  },
  {
   "cell_type": "code",
   "execution_count": 57,
   "id": "3b0c52c9-5c14-4e9d-93ce-5793071d9ded",
   "metadata": {},
   "outputs": [],
   "source": [
    "# Create lag features (e.g., traffic from previous 1, 2, and 24 hours)\n",
    "for lag in [1, 2, 24]:\n",
    "    df[f'Vehicles_Lag_{lag}'] = df.groupby('Junction')['Vehicles'].shift(lag)"
   ]
  },
  {
   "cell_type": "code",
   "execution_count": 59,
   "id": "c0f8f52a-cf13-40e5-8d88-befb423a0e78",
   "metadata": {},
   "outputs": [],
   "source": [
    "# Create binary indicator for special events (example: assume high traffic days as events)\n",
    "# Define high traffic as days with vehicle counts above the 90th percentile\n",
    "high_traffic_threshold = df.groupby('Junction')['Vehicles'].quantile(0.90)\n",
    "df['IsSpecialEvent'] = df.apply(\n",
    "    lambda row: 1 if row['Vehicles'] > high_traffic_threshold[row['Junction']] else 0, axis=1\n",
    ")"
   ]
  },
  {
   "cell_type": "code",
   "execution_count": 61,
   "id": "68ee159d-20b5-45fc-bad1-337bce3c80c2",
   "metadata": {},
   "outputs": [],
   "source": [
    "# Drop rows with NaN values introduced by lag features\n",
    "df = df.dropna()"
   ]
  },
  {
   "cell_type": "code",
   "execution_count": 63,
   "id": "c82ea4c4-282e-4b3f-9f84-ce304e1bf4dd",
   "metadata": {},
   "outputs": [],
   "source": [
    "# Prepare features and target for modeling\n",
    "features = ['Hour', 'DayOfWeek', 'Month', 'IsWeekend', 'IsSpecialEvent', \n",
    "            'Vehicles_Lag_1', 'Vehicles_Lag_2', 'Vehicles_Lag_24']\n",
    "X = df[features]\n",
    "y = df['Vehicles']"
   ]
  },
  {
   "cell_type": "code",
   "execution_count": 65,
   "id": "2db3b03b-979d-4d96-a722-3c78fc668f39",
   "metadata": {},
   "outputs": [
    {
     "name": "stdout",
     "output_type": "stream",
     "text": [
      "\n",
      "Correlation Matrix:\n",
      "Vehicles           1.000000\n",
      "Vehicles_Lag_1     0.970122\n",
      "Vehicles_Lag_2     0.937090\n",
      "Vehicles_Lag_24    0.905146\n",
      "IsSpecialEvent     0.437770\n",
      "Hour               0.220167\n",
      "Month             -0.021901\n",
      "DayOfWeek         -0.124124\n",
      "IsWeekend         -0.148629\n",
      "Name: Vehicles, dtype: float64\n"
     ]
    }
   ],
   "source": [
    "# 2. Evaluate Feature Importance\n",
    "# Method 1: Correlation Analysis\n",
    "correlation_matrix = df[features + ['Vehicles']].corr()\n",
    "print(\"\\nCorrelation Matrix:\")\n",
    "print(correlation_matrix['Vehicles'].sort_values(ascending=False))"
   ]
  },
  {
   "cell_type": "code",
   "execution_count": 69,
   "id": "aea35a03-bf20-436b-8cdd-98aa3199bf91",
   "metadata": {},
   "outputs": [
    {
     "data": {
      "image/png": "[encoded data removed]",
      "text/plain": [
       "<Figure size 1000x800 with 2 Axes>"
      ]
     },
     "metadata": {},
     "output_type": "display_data"
    }
   ],
   "source": [
    "# Visualize correlation matrix as a heatmap\n",
    "plt.figure(figsize=(10, 8))\n",
    "sns.heatmap(correlation_matrix, annot=True, cmap='coolwarm', center=0)\n",
    "plt.title('Correlation Matrix of Features and Vehicles')\n",
    "plt.tight_layout()\n",
    "plt.savefig('correlation_heatmap.png')\n",
    "plt.show()"
   ]
  },
  {
   "cell_type": "code",
   "execution_count": 73,
   "id": "4ceeba4b-4bf8-486c-98b6-721ef133351e",
   "metadata": {},
   "outputs": [
    {
     "data": {
      "text/html": [
       "<style>#sk-container-id-1 {\n",
       "  /* Definition of color scheme common for light and dark mode */\n",
       "  --sklearn-color-text: black;\n",
       "  --sklearn-color-line: gray;\n",
       "  /* Definition of color scheme for unfitted estimators */\n",
       "  --sklearn-color-unfitted-level-0: #fff5e6;\n",
       "  --sklearn-color-unfitted-level-1: #f6e4d2;\n",
       "  --sklearn-color-unfitted-level-2: #ffe0b3;\n",
       "  --sklearn-color-unfitted-level-3: chocolate;\n",
       "  /* Definition of color scheme for fitted estimators */\n",
       "  --sklearn-color-fitted-level-0: #f0f8ff;\n",
       "  --sklearn-color-fitted-level-1: #d4ebff;\n",
       "  --sklearn-color-fitted-level-2: #b3dbfd;\n",
       "  --sklearn-color-fitted-level-3: cornflowerblue;\n",
       "\n",
       "  /* Specific color for light theme */\n",
       "  --sklearn-color-text-on-default-background: var(--sg-text-color, var(--theme-code-foreground, var(--jp-content-font-color1, black)));\n",
       "  --sklearn-color-background: var(--sg-background-color, var(--theme-background, var(--jp-layout-color0, white)));\n",
       "  --sklearn-color-border-box: var(--sg-text-color, var(--theme-code-foreground, var(--jp-content-font-color1, black)));\n",
       "  --sklearn-color-icon: #696969;\n",
       "\n",
       "  @media (prefers-color-scheme: dark) {\n",
       "    /* Redefinition of color scheme for dark theme */\n",
       "    --sklearn-color-text-on-default-background: var(--sg-text-color, var(--theme-code-foreground, var(--jp-content-font-color1, white)));\n",
       "    --sklearn-color-background: var(--sg-background-color, var(--theme-background, var(--jp-layout-color0, #111)));\n",
       "    --sklearn-color-border-box: var(--sg-text-color, var(--theme-code-foreground, var(--jp-content-font-color1, white)));\n",
       "    --sklearn-color-icon: #878787;\n",
       "  }\n",
       "}\n",
       "\n",
       "#sk-container-id-1 {\n",
       "  color: var(--sklearn-color-text);\n",
       "}\n",
       "\n",
       "#sk-container-id-1 pre {\n",
       "  padding: 0;\n",
       "}\n",
       "\n",
       "#sk-container-id-1 input.sk-hidden--visually {\n",
       "  border: 0;\n",
       "  clip: rect(1px 1px 1px 1px);\n",
       "  clip: rect(1px, 1px, 1px, 1px);\n",
       "  height: 1px;\n",
       "  margin: -1px;\n",
       "  overflow: hidden;\n",
       "  padding: 0;\n",
       "  position: absolute;\n",
       "  width: 1px;\n",
       "}\n",
       "\n",
       "#sk-container-id-1 div.sk-dashed-wrapped {\n",
       "  border: 1px dashed var(--sklearn-color-line);\n",
       "  margin: 0 0.4em 0.5em 0.4em;\n",
       "  box-sizing: border-box;\n",
       "  padding-bottom: 0.4em;\n",
       "  background-color: var(--sklearn-color-background);\n",
       "}\n",
       "\n",
       "#sk-container-id-1 div.sk-container {\n",
       "  /* jupyter's `normalize.less` sets `[hidden] { display: none; }`\n",
       "     but bootstrap.min.css set `[hidden] { display: none !important; }`\n",
       "     so we also need the `!important` here to be able to override the\n",
       "     default hidden behavior on the sphinx rendered scikit-learn.org.\n",
       "     See: https://github.com/scikit-learn/scikit-learn/issues/21755 */\n",
       "  display: inline-block !important;\n",
       "  position: relative;\n",
       "}\n",
       "\n",
       "#sk-container-id-1 div.sk-text-repr-fallback {\n",
       "  display: none;\n",
       "}\n",
       "\n",
       "div.sk-parallel-item,\n",
       "div.sk-serial,\n",
       "div.sk-item {\n",
       "  /* draw centered vertical line to link estimators */\n",
       "  background-image: linear-gradient(var(--sklearn-color-text-on-default-background), var(--sklearn-color-text-on-default-background));\n",
       "  background-size: 2px 100%;\n",
       "  background-repeat: no-repeat;\n",
       "  background-position: center center;\n",
       "}\n",
       "\n",
       "/* Parallel-specific style estimator block */\n",
       "\n",
       "#sk-container-id-1 div.sk-parallel-item::after {\n",
       "  content: \"\";\n",
       "  width: 100%;\n",
       "  border-bottom: 2px solid var(--sklearn-color-text-on-default-background);\n",
       "  flex-grow: 1;\n",
       "}\n",
       "\n",
       "#sk-container-id-1 div.sk-parallel {\n",
       "  display: flex;\n",
       "  align-items: stretch;\n",
       "  justify-content: center;\n",
       "  background-color: var(--sklearn-color-background);\n",
       "  position: relative;\n",
       "}\n",
       "\n",
       "#sk-container-id-1 div.sk-parallel-item {\n",
       "  display: flex;\n",
       "  flex-direction: column;\n",
       "}\n",
       "\n",
       "#sk-container-id-1 div.sk-parallel-item:first-child::after {\n",
       "  align-self: flex-end;\n",
       "  width: 50%;\n",
       "}\n",
       "\n",
       "#sk-container-id-1 div.sk-parallel-item:last-child::after {\n",
       "  align-self: flex-start;\n",
       "  width: 50%;\n",
       "}\n",
       "\n",
       "#sk-container-id-1 div.sk-parallel-item:only-child::after {\n",
       "  width: 0;\n",
       "}\n",
       "\n",
       "/* Serial-specific style estimator block */\n",
       "\n",
       "#sk-container-id-1 div.sk-serial {\n",
       "  display: flex;\n",
       "  flex-direction: column;\n",
       "  align-items: center;\n",
       "  background-color: var(--sklearn-color-background);\n",
       "  padding-right: 1em;\n",
       "  padding-left: 1em;\n",
       "}\n",
       "\n",
       "\n",
       "/* Toggleable style: style used for estimator/Pipeline/ColumnTransformer box that is\n",
       "clickable and can be expanded/collapsed.\n",
       "- Pipeline and ColumnTransformer use this feature and define the default style\n",
       "- Estimators will overwrite some part of the style using the `sk-estimator` class\n",
       "*/\n",
       "\n",
       "/* Pipeline and ColumnTransformer style (default) */\n",
       "\n",
       "#sk-container-id-1 div.sk-toggleable {\n",
       "  /* Default theme specific background. It is overwritten whether we have a\n",
       "  specific estimator or a Pipeline/ColumnTransformer */\n",
       "  background-color: var(--sklearn-color-background);\n",
       "}\n",
       "\n",
       "/* Toggleable label */\n",
       "#sk-container-id-1 label.sk-toggleable__label {\n",
       "  cursor: pointer;\n",
       "  display: block;\n",
       "  width: 100%;\n",
       "  margin-bottom: 0;\n",
       "  padding: 0.5em;\n",
       "  box-sizing: border-box;\n",
       "  text-align: center;\n",
       "}\n",
       "\n",
       "#sk-container-id-1 label.sk-toggleable__label-arrow:before {\n",
       "  /* Arrow on the left of the label */\n",
       "  content: \"▸\";\n",
       "  float: left;\n",
       "  margin-right: 0.25em;\n",
       "  color: var(--sklearn-color-icon);\n",
       "}\n",
       "\n",
       "#sk-container-id-1 label.sk-toggleable__label-arrow:hover:before {\n",
       "  color: var(--sklearn-color-text);\n",
       "}\n",
       "\n",
       "/* Toggleable content - dropdown */\n",
       "\n",
       "#sk-container-id-1 div.sk-toggleable__content {\n",
       "  max-height: 0;\n",
       "  max-width: 0;\n",
       "  overflow: hidden;\n",
       "  text-align: left;\n",
       "  /* unfitted */\n",
       "  background-color: var(--sklearn-color-unfitted-level-0);\n",
       "}\n",
       "\n",
       "#sk-container-id-1 div.sk-toggleable__content.fitted {\n",
       "  /* fitted */\n",
       "  background-color: var(--sklearn-color-fitted-level-0);\n",
       "}\n",
       "\n",
       "#sk-container-id-1 div.sk-toggleable__content pre {\n",
       "  margin: 0.2em;\n",
       "  border-radius: 0.25em;\n",
       "  color: var(--sklearn-color-text);\n",
       "  /* unfitted */\n",
       "  background-color: var(--sklearn-color-unfitted-level-0);\n",
       "}\n",
       "\n",
       "#sk-container-id-1 div.sk-toggleable__content.fitted pre {\n",
       "  /* unfitted */\n",
       "  background-color: var(--sklearn-color-fitted-level-0);\n",
       "}\n",
       "\n",
       "#sk-container-id-1 input.sk-toggleable__control:checked~div.sk-toggleable__content {\n",
       "  /* Expand drop-down */\n",
       "  max-height: 200px;\n",
       "  max-width: 100%;\n",
       "  overflow: auto;\n",
       "}\n",
       "\n",
       "#sk-container-id-1 input.sk-toggleable__control:checked~label.sk-toggleable__label-arrow:before {\n",
       "  content: \"▾\";\n",
       "}\n",
       "\n",
       "/* Pipeline/ColumnTransformer-specific style */\n",
       "\n",
       "#sk-container-id-1 div.sk-label input.sk-toggleable__control:checked~label.sk-toggleable__label {\n",
       "  color: var(--sklearn-color-text);\n",
       "  background-color: var(--sklearn-color-unfitted-level-2);\n",
       "}\n",
       "\n",
       "#sk-container-id-1 div.sk-label.fitted input.sk-toggleable__control:checked~label.sk-toggleable__label {\n",
       "  background-color: var(--sklearn-color-fitted-level-2);\n",
       "}\n",
       "\n",
       "/* Estimator-specific style */\n",
       "\n",
       "/* Colorize estimator box */\n",
       "#sk-container-id-1 div.sk-estimator input.sk-toggleable__control:checked~label.sk-toggleable__label {\n",
       "  /* unfitted */\n",
       "  background-color: var(--sklearn-color-unfitted-level-2);\n",
       "}\n",
       "\n",
       "#sk-container-id-1 div.sk-estimator.fitted input.sk-toggleable__control:checked~label.sk-toggleable__label {\n",
       "  /* fitted */\n",
       "  background-color: var(--sklearn-color-fitted-level-2);\n",
       "}\n",
       "\n",
       "#sk-container-id-1 div.sk-label label.sk-toggleable__label,\n",
       "#sk-container-id-1 div.sk-label label {\n",
       "  /* The background is the default theme color */\n",
       "  color: var(--sklearn-color-text-on-default-background);\n",
       "}\n",
       "\n",
       "/* On hover, darken the color of the background */\n",
       "#sk-container-id-1 div.sk-label:hover label.sk-toggleable__label {\n",
       "  color: var(--sklearn-color-text);\n",
       "  background-color: var(--sklearn-color-unfitted-level-2);\n",
       "}\n",
       "\n",
       "/* Label box, darken color on hover, fitted */\n",
       "#sk-container-id-1 div.sk-label.fitted:hover label.sk-toggleable__label.fitted {\n",
       "  color: var(--sklearn-color-text);\n",
       "  background-color: var(--sklearn-color-fitted-level-2);\n",
       "}\n",
       "\n",
       "/* Estimator label */\n",
       "\n",
       "#sk-container-id-1 div.sk-label label {\n",
       "  font-family: monospace;\n",
       "  font-weight: bold;\n",
       "  display: inline-block;\n",
       "  line-height: 1.2em;\n",
       "}\n",
       "\n",
       "#sk-container-id-1 div.sk-label-container {\n",
       "  text-align: center;\n",
       "}\n",
       "\n",
       "/* Estimator-specific */\n",
       "#sk-container-id-1 div.sk-estimator {\n",
       "  font-family: monospace;\n",
       "  border: 1px dotted var(--sklearn-color-border-box);\n",
       "  border-radius: 0.25em;\n",
       "  box-sizing: border-box;\n",
       "  margin-bottom: 0.5em;\n",
       "  /* unfitted */\n",
       "  background-color: var(--sklearn-color-unfitted-level-0);\n",
       "}\n",
       "\n",
       "#sk-container-id-1 div.sk-estimator.fitted {\n",
       "  /* fitted */\n",
       "  background-color: var(--sklearn-color-fitted-level-0);\n",
       "}\n",
       "\n",
       "/* on hover */\n",
       "#sk-container-id-1 div.sk-estimator:hover {\n",
       "  /* unfitted */\n",
       "  background-color: var(--sklearn-color-unfitted-level-2);\n",
       "}\n",
       "\n",
       "#sk-container-id-1 div.sk-estimator.fitted:hover {\n",
       "  /* fitted */\n",
       "  background-color: var(--sklearn-color-fitted-level-2);\n",
       "}\n",
       "\n",
       "/* Specification for estimator info (e.g. \"i\" and \"?\") */\n",
       "\n",
       "/* Common style for \"i\" and \"?\" */\n",
       "\n",
       ".sk-estimator-doc-link,\n",
       "a:link.sk-estimator-doc-link,\n",
       "a:visited.sk-estimator-doc-link {\n",
       "  float: right;\n",
       "  font-size: smaller;\n",
       "  line-height: 1em;\n",
       "  font-family: monospace;\n",
       "  background-color: var(--sklearn-color-background);\n",
       "  border-radius: 1em;\n",
       "  height: 1em;\n",
       "  width: 1em;\n",
       "  text-decoration: none !important;\n",
       "  margin-left: 1ex;\n",
       "  /* unfitted */\n",
       "  border: var(--sklearn-color-unfitted-level-1) 1pt solid;\n",
       "  color: var(--sklearn-color-unfitted-level-1);\n",
       "}\n",
       "\n",
       ".sk-estimator-doc-link.fitted,\n",
       "a:link.sk-estimator-doc-link.fitted,\n",
       "a:visited.sk-estimator-doc-link.fitted {\n",
       "  /* fitted */\n",
       "  border: var(--sklearn-color-fitted-level-1) 1pt solid;\n",
       "  color: var(--sklearn-color-fitted-level-1);\n",
       "}\n",
       "\n",
       "/* On hover */\n",
       "div.sk-estimator:hover .sk-estimator-doc-link:hover,\n",
       ".sk-estimator-doc-link:hover,\n",
       "div.sk-label-container:hover .sk-estimator-doc-link:hover,\n",
       ".sk-estimator-doc-link:hover {\n",
       "  /* unfitted */\n",
       "  background-color: var(--sklearn-color-unfitted-level-3);\n",
       "  color: var(--sklearn-color-background);\n",
       "  text-decoration: none;\n",
       "}\n",
       "\n",
       "div.sk-estimator.fitted:hover .sk-estimator-doc-link.fitted:hover,\n",
       ".sk-estimator-doc-link.fitted:hover,\n",
       "div.sk-label-container:hover .sk-estimator-doc-link.fitted:hover,\n",
       ".sk-estimator-doc-link.fitted:hover {\n",
       "  /* fitted */\n",
       "  background-color: var(--sklearn-color-fitted-level-3);\n",
       "  color: var(--sklearn-color-background);\n",
       "  text-decoration: none;\n",
       "}\n",
       "\n",
       "/* Span, style for the box shown on hovering the info icon */\n",
       ".sk-estimator-doc-link span {\n",
       "  display: none;\n",
       "  z-index: 9999;\n",
       "  position: relative;\n",
       "  font-weight: normal;\n",
       "  right: .2ex;\n",
       "  padding: .5ex;\n",
       "  margin: .5ex;\n",
       "  width: min-content;\n",
       "  min-width: 20ex;\n",
       "  max-width: 50ex;\n",
       "  color: var(--sklearn-color-text);\n",
       "  box-shadow: 2pt 2pt 4pt #999;\n",
       "  /* unfitted */\n",
       "  background: var(--sklearn-color-unfitted-level-0);\n",
       "  border: .5pt solid var(--sklearn-color-unfitted-level-3);\n",
       "}\n",
       "\n",
       ".sk-estimator-doc-link.fitted span {\n",
       "  /* fitted */\n",
       "  background: var(--sklearn-color-fitted-level-0);\n",
       "  border: var(--sklearn-color-fitted-level-3);\n",
       "}\n",
       "\n",
       ".sk-estimator-doc-link:hover span {\n",
       "  display: block;\n",
       "}\n",
       "\n",
       "/* \"?\"-specific style due to the `<a>` HTML tag */\n",
       "\n",
       "#sk-container-id-1 a.estimator_doc_link {\n",
       "  float: right;\n",
       "  font-size: 1rem;\n",
       "  line-height: 1em;\n",
       "  font-family: monospace;\n",
       "  background-color: var(--sklearn-color-background);\n",
       "  border-radius: 1rem;\n",
       "  height: 1rem;\n",
       "  width: 1rem;\n",
       "  text-decoration: none;\n",
       "  /* unfitted */\n",
       "  color: var(--sklearn-color-unfitted-level-1);\n",
       "  border: var(--sklearn-color-unfitted-level-1) 1pt solid;\n",
       "}\n",
       "\n",
       "#sk-container-id-1 a.estimator_doc_link.fitted {\n",
       "  /* fitted */\n",
       "  border: var(--sklearn-color-fitted-level-1) 1pt solid;\n",
       "  color: var(--sklearn-color-fitted-level-1);\n",
       "}\n",
       "\n",
       "/* On hover */\n",
       "#sk-container-id-1 a.estimator_doc_link:hover {\n",
       "  /* unfitted */\n",
       "  background-color: var(--sklearn-color-unfitted-level-3);\n",
       "  color: var(--sklearn-color-background);\n",
       "  text-decoration: none;\n",
       "}\n",
       "\n",
       "#sk-container-id-1 a.estimator_doc_link.fitted:hover {\n",
       "  /* fitted */\n",
       "  background-color: var(--sklearn-color-fitted-level-3);\n",
       "}\n",
       "</style><div id=\"sk-container-id-1\" class=\"sk-top-container\"><div class=\"sk-text-repr-fallback\"><pre>RandomForestRegressor(random_state=42)</pre><b>In a Jupyter environment, please rerun this cell to show the HTML representation or trust the notebook. <br />On GitHub, the HTML representation is unable to render, please try loading this page with nbviewer.org.</b></div><div class=\"sk-container\" hidden><div class=\"sk-item\"><div class=\"sk-estimator fitted sk-toggleable\"><input class=\"sk-toggleable__control sk-hidden--visually\" id=\"sk-estimator-id-1\" type=\"checkbox\" checked><label for=\"sk-estimator-id-1\" class=\"sk-toggleable__label fitted sk-toggleable__label-arrow fitted\">&nbsp;&nbsp;RandomForestRegressor<a class=\"sk-estimator-doc-link fitted\" rel=\"noreferrer\" target=\"_blank\" href=\"https://scikit-learn.org/1.4/modules/generated/sklearn.ensemble.RandomForestRegressor.html\">?<span>Documentation for RandomForestRegressor</span></a><span class=\"sk-estimator-doc-link fitted\">i<span>Fitted</span></span></label><div class=\"sk-toggleable__content fitted\"><pre>RandomForestRegressor(random_state=42)</pre></div> </div></div></div></div>"
      ],
      "text/plain": [
       "RandomForestRegressor(random_state=42)"
      ]
     },
     "execution_count": 73,
     "metadata": {},
     "output_type": "execute_result"
    }
   ],
   "source": [
    "# Method 2: Feature Importance using Random Forest\n",
    "rf_model = RandomForestRegressor(n_estimators=100, random_state=42)\n",
    "rf_model.fit(X, y)"
   ]
  },
  {
   "cell_type": "code",
   "execution_count": 75,
   "id": "6d53f8fd-5b52-4eb5-b3d6-50feb6dd172c",
   "metadata": {},
   "outputs": [
    {
     "name": "stdout",
     "output_type": "stream",
     "text": [
      "\n",
      "Feature Importance from Random Forest:\n",
      "           Feature  Importance\n",
      "5   Vehicles_Lag_1    0.929455\n",
      "4   IsSpecialEvent    0.019855\n",
      "7  Vehicles_Lag_24    0.016564\n",
      "0             Hour    0.014287\n",
      "6   Vehicles_Lag_2    0.009293\n",
      "2            Month    0.005396\n",
      "1        DayOfWeek    0.004315\n",
      "3        IsWeekend    0.000835\n"
     ]
    }
   ],
   "source": [
    "# Get feature importance\n",
    "feature_importance = pd.DataFrame({\n",
    "    'Feature': features,\n",
    "    'Importance': rf_model.feature_importances_\n",
    "}).sort_values(by='Importance', ascending=False)\n",
    "\n",
    "print(\"\\nFeature Importance from Random Forest:\")\n",
    "print(feature_importance)"
   ]
  },
  {
   "cell_type": "code",
   "execution_count": 79,
   "id": "694bdbbd-1b0b-4a0e-9e6d-1983e2a30e95",
   "metadata": {},
   "outputs": [
    {
     "name": "stderr",
     "output_type": "stream",
     "text": [
      "C:\\Users\\nites\\AppData\\Local\\Temp\\ipykernel_20548\\820098974.py:3: FutureWarning: \n",
      "\n",
      "Passing `palette` without assigning `hue` is deprecated and will be removed in v0.14.0. Assign the `y` variable to `hue` and set `legend=False` for the same effect.\n",
      "\n",
      "  sns.barplot(x='Importance', y='Feature', data=feature_importance, palette='viridis')\n"
     ]
    },
    {
     "data": {
      "image/png": "[encoded data removed]",
      "text/plain": [
       "<Figure size 1000x600 with 1 Axes>"
      ]
     },
     "metadata": {},
     "output_type": "display_data"
    }
   ],
   "source": [
    "# Visualize feature importance\n",
    "plt.figure(figsize=(10, 6))\n",
    "sns.barplot(x='Importance', y='Feature', data=feature_importance, palette='viridis')\n",
    "plt.title('Feature Importance from Random Forest')\n",
    "plt.tight_layout()\n",
    "plt.savefig('feature_importance.png')\n",
    "plt.show()"
   ]
  },
  {
   "cell_type": "code",
   "execution_count": 81,
   "id": "a812fc69-1ae2-443c-b7ed-81df08f6f82a",
   "metadata": {},
   "outputs": [
    {
     "name": "stdout",
     "output_type": "stream",
     "text": [
      "\n",
      "Selected Top Features:\n",
      "['Vehicles_Lag_1', 'IsSpecialEvent', 'Vehicles_Lag_24', 'Hour', 'Vehicles_Lag_2']\n"
     ]
    }
   ],
   "source": [
    "# 3. Select Most Influential Features\n",
    "# Select top features based on Random Forest importance (e.g., top 5)\n",
    "top_features = feature_importance['Feature'].head(5).tolist()\n",
    "print(\"\\nSelected Top Features:\")\n",
    "print(top_features)"
   ]
  },
  {
   "cell_type": "code",
   "execution_count": 83,
   "id": "7f6b21d2-3df8-4045-b638-defa9e0af126",
   "metadata": {},
   "outputs": [],
   "source": [
    "# Create a new DataFrame with selected features\n",
    "X_selected = X[top_features]"
   ]
  },
  {
   "cell_type": "code",
   "execution_count": 85,
   "id": "c256c50c-c2b1-4381-ae56-7b6882bddc4d",
   "metadata": {},
   "outputs": [],
   "source": [
    "# Save the engineered dataset with selected features\n",
    "df_engineered = df[['DateTime', 'Junction', 'Vehicles'] + top_features]\n",
    "df_engineered.to_csv('engineered_traffic_data.csv', index=False)"
   ]
  },
  {
   "cell_type": "code",
   "execution_count": 87,
   "id": "700375c6-3091-4ae9-a26f-7bf13cde98c0",
   "metadata": {},
   "outputs": [
    {
     "name": "stdout",
     "output_type": "stream",
     "text": [
      "\n",
      "Engineered dataset saved to 'engineered_traffic_data.csv'\n"
     ]
    }
   ],
   "source": [
    "print(\"\\nEngineered dataset saved to 'engineered_traffic_data.csv'\")"
   ]
  },
  {
   "cell_type": "code",
   "execution_count": null,
   "id": "87c6e3fd-fb82-4047-a95a-e1f8f41de9b8",
   "metadata": {},
   "outputs": [],
   "source": []
  }
 ],
 "metadata": {
  "kernelspec": {
   "display_name": "Python 3 (ipykernel)",
   "language": "python",
   "name": "python3"
  },
  "language_info": {
   "codemirror_mode": {
    "name": "ipython",
    "version": 3
   },
   "file_extension": ".py",
   "mimetype": "text/x-python",
   "name": "python",
   "nbconvert_exporter": "python",
   "pygments_lexer": "ipython3",
   "version": "3.12.4"
  }
 },
 "nbformat": 4,
 "nbformat_minor": 5
}
